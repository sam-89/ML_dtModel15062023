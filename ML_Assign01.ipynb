{
 "cells": [
  {
   "attachments": {},
   "cell_type": "markdown",
   "metadata": {},
   "source": [
    "\n",
    "<h2><strong>ML Assignment-01</strong></h2>\n",
    "<h4>Group_VRS</h4>\n",
    "<h4>Members:</h4>\n",
    "<table style=\"border-collapse: collapse; width: 100%; height: 72px;\" border=\"1\">\n",
    "<tbody>\n",
    "<tr style=\"height: 18px; background-color: blue;\">\n",
    "<td style=\"width: 50%; height: 18px; text-align: left;\"><span style=\"color: #ffffff;\"><strong>Name</strong></span></td>\n",
    "<td style=\"width: 50%; height: 18px; text-align: left;\"><span style=\"color: #ffffff;\"><strong>BITS ID</strong></span></td>\n",
    "</tr>\n",
    "<tr style=\"height: 18px;\">\n",
    "<td style=\"width: 50%; height: 18px; text-align: left;\">Rahul Khandpur</td>\n",
    "<td style=\"width: 50%; height: 18px; text-align: left;\">2022OG04037</td>\n",
    "</tr>\n",
    "<tr style=\"height: 18px;\">\n",
    "<td style=\"width: 50%; height: 18px; text-align: left;\">Vaibhav Vig</td>\n",
    "<td style=\"width: 50%; height: 18px; text-align: left;\">2022OG04038</td>\n",
    "</tr>\n",
    "<tr style=\"height: 18px;\">\n",
    "<td style=\"width: 50%; height: 18px; text-align: left;\">Sumanta Kumar Patel</td>\n",
    "<td style=\"width: 50%; height: 18px; text-align: left;\">2022OG04032</td>\n",
    "</tr>\n",
    "</tbody>\n",
    "</table>\n",
    "<p><strong>Project Description: </strong></p>\n",
    "<p>Using Decission Tree Model we tried to predict the housing price in Melbourn State.</p>\n",
    "<p>&nbsp;</p>"
   ]
  },
  {
   "cell_type": "code",
   "execution_count": 1,
   "metadata": {},
   "outputs": [],
   "source": [
    "import pandas as pd\n",
    "\n",
    "# Path of the file to read\n",
    "file_path = 'melb_data.csv'\n",
    "\n",
    "# Fill in the line below to read the file into a variable home_data\n",
    "melbourne_data = pd.read_csv(file_path)"
   ]
  },
  {
   "cell_type": "code",
   "execution_count": 2,
   "metadata": {},
   "outputs": [
    {
     "name": "stdout",
     "output_type": "stream",
     "text": [
      "              Rooms         Price      Distance      Postcode      Bedroom2  \\\n",
      "count  13580.000000  1.358000e+04  13580.000000  13580.000000  13580.000000   \n",
      "mean       2.937997  1.075684e+06     10.137776   3105.301915      2.914728   \n",
      "std        0.955748  6.393107e+05      5.868725     90.676964      0.965921   \n",
      "min        1.000000  8.500000e+04      0.000000   3000.000000      0.000000   \n",
      "25%        2.000000  6.500000e+05      6.100000   3044.000000      2.000000   \n",
      "50%        3.000000  9.030000e+05      9.200000   3084.000000      3.000000   \n",
      "75%        3.000000  1.330000e+06     13.000000   3148.000000      3.000000   \n",
      "max       10.000000  9.000000e+06     48.100000   3977.000000     20.000000   \n",
      "\n",
      "           Bathroom           Car       Landsize  BuildingArea    YearBuilt  \\\n",
      "count  13580.000000  13518.000000   13580.000000   7130.000000  8205.000000   \n",
      "mean       1.534242      1.610075     558.416127    151.967650  1964.684217   \n",
      "std        0.691712      0.962634    3990.669241    541.014538    37.273762   \n",
      "min        0.000000      0.000000       0.000000      0.000000  1196.000000   \n",
      "25%        1.000000      1.000000     177.000000     93.000000  1940.000000   \n",
      "50%        1.000000      2.000000     440.000000    126.000000  1970.000000   \n",
      "75%        2.000000      2.000000     651.000000    174.000000  1999.000000   \n",
      "max        8.000000     10.000000  433014.000000  44515.000000  2018.000000   \n",
      "\n",
      "          Lattitude    Longtitude  Propertycount  \n",
      "count  13580.000000  13580.000000   13580.000000  \n",
      "mean     -37.809203    144.995216    7454.417378  \n",
      "std        0.079260      0.103916    4378.581772  \n",
      "min      -38.182550    144.431810     249.000000  \n",
      "25%      -37.856822    144.929600    4380.000000  \n",
      "50%      -37.802355    145.000100    6555.000000  \n",
      "75%      -37.756400    145.058305   10331.000000  \n",
      "max      -37.408530    145.526350   21650.000000  \n"
     ]
    }
   ],
   "source": [
    "#Summerizing the stastics of dataset\n",
    "print(melbourne_data.describe())"
   ]
  },
  {
   "cell_type": "code",
   "execution_count": 3,
   "metadata": {},
   "outputs": [],
   "source": [
    "# What is the average lot size (rounded to nearest integer)?\n",
    "avg_lot_size = 10517\n",
    "\n",
    "# As of today, how old is the newest home (current year - the date in which it was built)\n",
    "newest_home_age = 2023 - 2010"
   ]
  },
  {
   "cell_type": "code",
   "execution_count": 4,
   "metadata": {},
   "outputs": [
    {
     "data": {
      "text/plain": [
       "Index(['Suburb', 'Address', 'Rooms', 'Type', 'Price', 'Method', 'SellerG',\n",
       "       'Date', 'Distance', 'Postcode', 'Bedroom2', 'Bathroom', 'Car',\n",
       "       'Landsize', 'BuildingArea', 'YearBuilt', 'CouncilArea', 'Lattitude',\n",
       "       'Longtitude', 'Regionname', 'Propertycount'],\n",
       "      dtype='object')"
      ]
     },
     "execution_count": 4,
     "metadata": {},
     "output_type": "execute_result"
    }
   ],
   "source": [
    "melbourne_data.columns"
   ]
  },
  {
   "cell_type": "code",
   "execution_count": 5,
   "metadata": {},
   "outputs": [
    {
     "data": {
      "text/plain": [
       "Suburb              0\n",
       "Address             0\n",
       "Rooms               0\n",
       "Type                0\n",
       "Price               0\n",
       "Method              0\n",
       "SellerG             0\n",
       "Date                0\n",
       "Distance            0\n",
       "Postcode            0\n",
       "Bedroom2            0\n",
       "Bathroom            0\n",
       "Car                62\n",
       "Landsize            0\n",
       "BuildingArea     6450\n",
       "YearBuilt        5375\n",
       "CouncilArea      1369\n",
       "Lattitude           0\n",
       "Longtitude          0\n",
       "Regionname          0\n",
       "Propertycount       0\n",
       "dtype: int64"
      ]
     },
     "execution_count": 5,
     "metadata": {},
     "output_type": "execute_result"
    }
   ],
   "source": [
    "# Checking the missing values\n",
    "melbourne_data.isnull().sum()"
   ]
  },
  {
   "cell_type": "code",
   "execution_count": 6,
   "metadata": {},
   "outputs": [
    {
     "name": "stdout",
     "output_type": "stream",
     "text": [
      "             Rooms         Price     Distance     Postcode     Bedroom2  \\\n",
      "count  6196.000000  6.196000e+03  6196.000000  6196.000000  6196.000000   \n",
      "mean      2.931407  1.068828e+06     9.751097  3101.947708     2.902034   \n",
      "std       0.971079  6.751564e+05     5.612065    86.421604     0.970055   \n",
      "min       1.000000  1.310000e+05     0.000000  3000.000000     0.000000   \n",
      "25%       2.000000  6.200000e+05     5.900000  3044.000000     2.000000   \n",
      "50%       3.000000  8.800000e+05     9.000000  3081.000000     3.000000   \n",
      "75%       4.000000  1.325000e+06    12.400000  3147.000000     3.000000   \n",
      "max       8.000000  9.000000e+06    47.400000  3977.000000     9.000000   \n",
      "\n",
      "          Bathroom          Car      Landsize  BuildingArea    YearBuilt  \\\n",
      "count  6196.000000  6196.000000   6196.000000   6196.000000  6196.000000   \n",
      "mean      1.576340     1.573596    471.006940    141.568645  1964.081988   \n",
      "std       0.711362     0.929947    897.449881     90.834824    38.105673   \n",
      "min       1.000000     0.000000      0.000000      0.000000  1196.000000   \n",
      "25%       1.000000     1.000000    152.000000     91.000000  1940.000000   \n",
      "50%       1.000000     1.000000    373.000000    124.000000  1970.000000   \n",
      "75%       2.000000     2.000000    628.000000    170.000000  2000.000000   \n",
      "max       8.000000    10.000000  37000.000000   3112.000000  2018.000000   \n",
      "\n",
      "         Lattitude   Longtitude  Propertycount  \n",
      "count  6196.000000  6196.000000    6196.000000  \n",
      "mean    -37.807904   144.990201    7435.489509  \n",
      "std       0.075850     0.099165    4337.698917  \n",
      "min     -38.164920   144.542370     389.000000  \n",
      "25%     -37.855438   144.926198    4383.750000  \n",
      "50%     -37.802250   144.995800    6567.000000  \n",
      "75%     -37.758200   145.052700   10175.000000  \n",
      "max     -37.457090   145.526350   21650.000000  \n"
     ]
    }
   ],
   "source": [
    "\n",
    "# dropna drops missing values (think of na as \"not available\")\n",
    "melbourne_data = melbourne_data.dropna(axis=0)\n",
    "print(melbourne_data.describe())"
   ]
  },
  {
   "attachments": {},
   "cell_type": "markdown",
   "metadata": {},
   "source": [
    "<div>The columns that are inputted into our model (and later used to make predictions) are called \"features.\" </div>"
   ]
  },
  {
   "cell_type": "code",
   "execution_count": 7,
   "metadata": {},
   "outputs": [
    {
     "data": {
      "text/html": [
       "<div>\n",
       "<style scoped>\n",
       "    .dataframe tbody tr th:only-of-type {\n",
       "        vertical-align: middle;\n",
       "    }\n",
       "\n",
       "    .dataframe tbody tr th {\n",
       "        vertical-align: top;\n",
       "    }\n",
       "\n",
       "    .dataframe thead th {\n",
       "        text-align: right;\n",
       "    }\n",
       "</style>\n",
       "<table border=\"1\" class=\"dataframe\">\n",
       "  <thead>\n",
       "    <tr style=\"text-align: right;\">\n",
       "      <th></th>\n",
       "      <th>Rooms</th>\n",
       "      <th>Bathroom</th>\n",
       "      <th>Bedroom2</th>\n",
       "      <th>Landsize</th>\n",
       "      <th>Car</th>\n",
       "      <th>BuildingArea</th>\n",
       "      <th>YearBuilt</th>\n",
       "      <th>Distance</th>\n",
       "      <th>Postcode</th>\n",
       "      <th>Lattitude</th>\n",
       "      <th>Longtitude</th>\n",
       "      <th>Price</th>\n",
       "    </tr>\n",
       "  </thead>\n",
       "  <tbody>\n",
       "    <tr>\n",
       "      <th>Rooms</th>\n",
       "      <td>1.000000</td>\n",
       "      <td>0.613853</td>\n",
       "      <td>0.951793</td>\n",
       "      <td>0.098755</td>\n",
       "      <td>0.422526</td>\n",
       "      <td>0.608215</td>\n",
       "      <td>-0.068122</td>\n",
       "      <td>0.283885</td>\n",
       "      <td>0.051237</td>\n",
       "      <td>0.016049</td>\n",
       "      <td>0.088031</td>\n",
       "      <td>0.533505</td>\n",
       "    </tr>\n",
       "    <tr>\n",
       "      <th>Bathroom</th>\n",
       "      <td>0.613853</td>\n",
       "      <td>1.000000</td>\n",
       "      <td>0.617751</td>\n",
       "      <td>0.076295</td>\n",
       "      <td>0.340808</td>\n",
       "      <td>0.534425</td>\n",
       "      <td>0.157820</td>\n",
       "      <td>0.124530</td>\n",
       "      <td>0.109804</td>\n",
       "      <td>-0.072020</td>\n",
       "      <td>0.116103</td>\n",
       "      <td>0.503922</td>\n",
       "    </tr>\n",
       "    <tr>\n",
       "      <th>Bedroom2</th>\n",
       "      <td>0.951793</td>\n",
       "      <td>0.617751</td>\n",
       "      <td>1.000000</td>\n",
       "      <td>0.097172</td>\n",
       "      <td>0.425726</td>\n",
       "      <td>0.593000</td>\n",
       "      <td>-0.056343</td>\n",
       "      <td>0.290242</td>\n",
       "      <td>0.053770</td>\n",
       "      <td>0.021309</td>\n",
       "      <td>0.085895</td>\n",
       "      <td>0.514561</td>\n",
       "    </tr>\n",
       "    <tr>\n",
       "      <th>Landsize</th>\n",
       "      <td>0.098755</td>\n",
       "      <td>0.076295</td>\n",
       "      <td>0.097172</td>\n",
       "      <td>1.000000</td>\n",
       "      <td>0.117647</td>\n",
       "      <td>0.084825</td>\n",
       "      <td>0.026518</td>\n",
       "      <td>0.059369</td>\n",
       "      <td>0.025807</td>\n",
       "      <td>0.005610</td>\n",
       "      <td>0.032918</td>\n",
       "      <td>0.081419</td>\n",
       "    </tr>\n",
       "    <tr>\n",
       "      <th>Car</th>\n",
       "      <td>0.422526</td>\n",
       "      <td>0.340808</td>\n",
       "      <td>0.425726</td>\n",
       "      <td>0.117647</td>\n",
       "      <td>1.000000</td>\n",
       "      <td>0.334282</td>\n",
       "      <td>0.108714</td>\n",
       "      <td>0.273615</td>\n",
       "      <td>0.043713</td>\n",
       "      <td>0.011973</td>\n",
       "      <td>0.054699</td>\n",
       "      <td>0.261507</td>\n",
       "    </tr>\n",
       "    <tr>\n",
       "      <th>BuildingArea</th>\n",
       "      <td>0.608215</td>\n",
       "      <td>0.534425</td>\n",
       "      <td>0.593000</td>\n",
       "      <td>0.084825</td>\n",
       "      <td>0.334282</td>\n",
       "      <td>1.000000</td>\n",
       "      <td>0.005836</td>\n",
       "      <td>0.159603</td>\n",
       "      <td>0.078483</td>\n",
       "      <td>-0.037904</td>\n",
       "      <td>0.103613</td>\n",
       "      <td>0.530574</td>\n",
       "    </tr>\n",
       "    <tr>\n",
       "      <th>YearBuilt</th>\n",
       "      <td>-0.068122</td>\n",
       "      <td>0.157820</td>\n",
       "      <td>-0.056343</td>\n",
       "      <td>0.026518</td>\n",
       "      <td>0.108714</td>\n",
       "      <td>0.005836</td>\n",
       "      <td>1.000000</td>\n",
       "      <td>0.246291</td>\n",
       "      <td>0.024375</td>\n",
       "      <td>0.057108</td>\n",
       "      <td>-0.002114</td>\n",
       "      <td>-0.304633</td>\n",
       "    </tr>\n",
       "    <tr>\n",
       "      <th>Distance</th>\n",
       "      <td>0.283885</td>\n",
       "      <td>0.124530</td>\n",
       "      <td>0.290242</td>\n",
       "      <td>0.059369</td>\n",
       "      <td>0.273615</td>\n",
       "      <td>0.159603</td>\n",
       "      <td>0.246291</td>\n",
       "      <td>1.000000</td>\n",
       "      <td>0.405729</td>\n",
       "      <td>-0.094494</td>\n",
       "      <td>0.221861</td>\n",
       "      <td>-0.148867</td>\n",
       "    </tr>\n",
       "    <tr>\n",
       "      <th>Postcode</th>\n",
       "      <td>0.051237</td>\n",
       "      <td>0.109804</td>\n",
       "      <td>0.053770</td>\n",
       "      <td>0.025807</td>\n",
       "      <td>0.043713</td>\n",
       "      <td>0.078483</td>\n",
       "      <td>0.024375</td>\n",
       "      <td>0.405729</td>\n",
       "      <td>1.000000</td>\n",
       "      <td>-0.425172</td>\n",
       "      <td>0.471305</td>\n",
       "      <td>0.125539</td>\n",
       "    </tr>\n",
       "    <tr>\n",
       "      <th>Lattitude</th>\n",
       "      <td>0.016049</td>\n",
       "      <td>-0.072020</td>\n",
       "      <td>0.021309</td>\n",
       "      <td>0.005610</td>\n",
       "      <td>0.011973</td>\n",
       "      <td>-0.037904</td>\n",
       "      <td>0.057108</td>\n",
       "      <td>-0.094494</td>\n",
       "      <td>-0.425172</td>\n",
       "      <td>1.000000</td>\n",
       "      <td>-0.357988</td>\n",
       "      <td>-0.213574</td>\n",
       "    </tr>\n",
       "    <tr>\n",
       "      <th>Longtitude</th>\n",
       "      <td>0.088031</td>\n",
       "      <td>0.116103</td>\n",
       "      <td>0.085895</td>\n",
       "      <td>0.032918</td>\n",
       "      <td>0.054699</td>\n",
       "      <td>0.103613</td>\n",
       "      <td>-0.002114</td>\n",
       "      <td>0.221861</td>\n",
       "      <td>0.471305</td>\n",
       "      <td>-0.357988</td>\n",
       "      <td>1.000000</td>\n",
       "      <td>0.211760</td>\n",
       "    </tr>\n",
       "    <tr>\n",
       "      <th>Price</th>\n",
       "      <td>0.533505</td>\n",
       "      <td>0.503922</td>\n",
       "      <td>0.514561</td>\n",
       "      <td>0.081419</td>\n",
       "      <td>0.261507</td>\n",
       "      <td>0.530574</td>\n",
       "      <td>-0.304633</td>\n",
       "      <td>-0.148867</td>\n",
       "      <td>0.125539</td>\n",
       "      <td>-0.213574</td>\n",
       "      <td>0.211760</td>\n",
       "      <td>1.000000</td>\n",
       "    </tr>\n",
       "  </tbody>\n",
       "</table>\n",
       "</div>"
      ],
      "text/plain": [
       "                 Rooms  Bathroom  Bedroom2  Landsize       Car  BuildingArea  \\\n",
       "Rooms         1.000000  0.613853  0.951793  0.098755  0.422526      0.608215   \n",
       "Bathroom      0.613853  1.000000  0.617751  0.076295  0.340808      0.534425   \n",
       "Bedroom2      0.951793  0.617751  1.000000  0.097172  0.425726      0.593000   \n",
       "Landsize      0.098755  0.076295  0.097172  1.000000  0.117647      0.084825   \n",
       "Car           0.422526  0.340808  0.425726  0.117647  1.000000      0.334282   \n",
       "BuildingArea  0.608215  0.534425  0.593000  0.084825  0.334282      1.000000   \n",
       "YearBuilt    -0.068122  0.157820 -0.056343  0.026518  0.108714      0.005836   \n",
       "Distance      0.283885  0.124530  0.290242  0.059369  0.273615      0.159603   \n",
       "Postcode      0.051237  0.109804  0.053770  0.025807  0.043713      0.078483   \n",
       "Lattitude     0.016049 -0.072020  0.021309  0.005610  0.011973     -0.037904   \n",
       "Longtitude    0.088031  0.116103  0.085895  0.032918  0.054699      0.103613   \n",
       "Price         0.533505  0.503922  0.514561  0.081419  0.261507      0.530574   \n",
       "\n",
       "              YearBuilt  Distance  Postcode  Lattitude  Longtitude     Price  \n",
       "Rooms         -0.068122  0.283885  0.051237   0.016049    0.088031  0.533505  \n",
       "Bathroom       0.157820  0.124530  0.109804  -0.072020    0.116103  0.503922  \n",
       "Bedroom2      -0.056343  0.290242  0.053770   0.021309    0.085895  0.514561  \n",
       "Landsize       0.026518  0.059369  0.025807   0.005610    0.032918  0.081419  \n",
       "Car            0.108714  0.273615  0.043713   0.011973    0.054699  0.261507  \n",
       "BuildingArea   0.005836  0.159603  0.078483  -0.037904    0.103613  0.530574  \n",
       "YearBuilt      1.000000  0.246291  0.024375   0.057108   -0.002114 -0.304633  \n",
       "Distance       0.246291  1.000000  0.405729  -0.094494    0.221861 -0.148867  \n",
       "Postcode       0.024375  0.405729  1.000000  -0.425172    0.471305  0.125539  \n",
       "Lattitude      0.057108 -0.094494 -0.425172   1.000000   -0.357988 -0.213574  \n",
       "Longtitude    -0.002114  0.221861  0.471305  -0.357988    1.000000  0.211760  \n",
       "Price         -0.304633 -0.148867  0.125539  -0.213574    0.211760  1.000000  "
      ]
     },
     "execution_count": 7,
     "metadata": {},
     "output_type": "execute_result"
    }
   ],
   "source": [
    "# Choosing Features\n",
    "# Exploratory Data Analysis\n",
    "# Corelation between independent features\n",
    "\n",
    "corr_attribute = ['Rooms', 'Bathroom', 'Bedroom2','Landsize', 'Car','BuildingArea','YearBuilt','Distance', 'Postcode','Lattitude', 'Longtitude','Price']\n",
    "corr_data = melbourne_data[corr_attribute]\n",
    "corr_data.head()\n",
    "corr_data.corr()"
   ]
  },
  {
   "cell_type": "code",
   "execution_count": 8,
   "metadata": {},
   "outputs": [
    {
     "data": {
      "text/plain": [
       "Text(0, 0.5, 'Price')"
      ]
     },
     "execution_count": 8,
     "metadata": {},
     "output_type": "execute_result"
    },
    {
     "data": {
      "image/png": "[encoded data removed]",
      "text/plain": [
       "<Figure size 640x480 with 1 Axes>"
      ]
     },
     "metadata": {},
     "output_type": "display_data"
    }
   ],
   "source": [
    "## visual plots for corelation (good with less number of features)\n",
    "from matplotlib import pyplot as plt\n",
    "#import seaborn as sns\n",
    "#sns.pairplot(melbourne_data)\n",
    "plt.scatter(melbourne_data['Rooms'], melbourne_data['Price'])\n",
    "plt.xlabel(\"Rooms\")\n",
    "plt.ylabel(\"Price\")"
   ]
  },
  {
   "cell_type": "code",
   "execution_count": 9,
   "metadata": {},
   "outputs": [
    {
     "data": {
      "text/plain": [
       "<Axes: xlabel='Rooms', ylabel='Price'>"
      ]
     },
     "execution_count": 9,
     "metadata": {},
     "output_type": "execute_result"
    },
    {
     "data": {
      "image/png": "[encoded data removed]",
      "text/plain": [
       "<Figure size 640x480 with 1 Axes>"
      ]
     },
     "metadata": {},
     "output_type": "display_data"
    }
   ],
   "source": [
    "# Using seaborn see the regression plot\n",
    "import seaborn as sns\n",
    "sns.regplot(x= \"Rooms\", y=\"Price\", data = melbourne_data)"
   ]
  },
  {
   "cell_type": "code",
   "execution_count": 10,
   "metadata": {},
   "outputs": [
    {
     "name": "stdout",
     "output_type": "stream",
     "text": [
      "1        1035000.0\n",
      "2        1465000.0\n",
      "4        1600000.0\n",
      "6        1876000.0\n",
      "7        1636000.0\n",
      "           ...    \n",
      "12205     601000.0\n",
      "12206    1050000.0\n",
      "12207     385000.0\n",
      "12209     560000.0\n",
      "12212    2450000.0\n",
      "Name: Price, Length: 6196, dtype: float64\n"
     ]
    }
   ],
   "source": [
    "# Dependent Feature - the prediction target is called y.\n",
    "y = melbourne_data.Price\n",
    "print(y)"
   ]
  },
  {
   "cell_type": "code",
   "execution_count": 11,
   "metadata": {},
   "outputs": [
    {
     "name": "stdout",
     "output_type": "stream",
     "text": [
      "             Rooms     Bathroom      Landsize    Lattitude   Longtitude\n",
      "count  6196.000000  6196.000000   6196.000000  6196.000000  6196.000000\n",
      "mean      2.931407     1.576340    471.006940   -37.807904   144.990201\n",
      "std       0.971079     0.711362    897.449881     0.075850     0.099165\n",
      "min       1.000000     1.000000      0.000000   -38.164920   144.542370\n",
      "25%       2.000000     1.000000    152.000000   -37.855438   144.926198\n",
      "50%       3.000000     1.000000    373.000000   -37.802250   144.995800\n",
      "75%       4.000000     2.000000    628.000000   -37.758200   145.052700\n",
      "max       8.000000     8.000000  37000.000000   -37.457090   145.526350\n"
     ]
    },
    {
     "data": {
      "text/html": [
       "<div>\n",
       "<style scoped>\n",
       "    .dataframe tbody tr th:only-of-type {\n",
       "        vertical-align: middle;\n",
       "    }\n",
       "\n",
       "    .dataframe tbody tr th {\n",
       "        vertical-align: top;\n",
       "    }\n",
       "\n",
       "    .dataframe thead th {\n",
       "        text-align: right;\n",
       "    }\n",
       "</style>\n",
       "<table border=\"1\" class=\"dataframe\">\n",
       "  <thead>\n",
       "    <tr style=\"text-align: right;\">\n",
       "      <th></th>\n",
       "      <th>Rooms</th>\n",
       "      <th>Bathroom</th>\n",
       "      <th>Landsize</th>\n",
       "      <th>Lattitude</th>\n",
       "      <th>Longtitude</th>\n",
       "    </tr>\n",
       "  </thead>\n",
       "  <tbody>\n",
       "    <tr>\n",
       "      <th>1</th>\n",
       "      <td>2</td>\n",
       "      <td>1.0</td>\n",
       "      <td>156.0</td>\n",
       "      <td>-37.8079</td>\n",
       "      <td>144.9934</td>\n",
       "    </tr>\n",
       "    <tr>\n",
       "      <th>2</th>\n",
       "      <td>3</td>\n",
       "      <td>2.0</td>\n",
       "      <td>134.0</td>\n",
       "      <td>-37.8093</td>\n",
       "      <td>144.9944</td>\n",
       "    </tr>\n",
       "    <tr>\n",
       "      <th>4</th>\n",
       "      <td>4</td>\n",
       "      <td>1.0</td>\n",
       "      <td>120.0</td>\n",
       "      <td>-37.8072</td>\n",
       "      <td>144.9941</td>\n",
       "    </tr>\n",
       "    <tr>\n",
       "      <th>6</th>\n",
       "      <td>3</td>\n",
       "      <td>2.0</td>\n",
       "      <td>245.0</td>\n",
       "      <td>-37.8024</td>\n",
       "      <td>144.9993</td>\n",
       "    </tr>\n",
       "    <tr>\n",
       "      <th>7</th>\n",
       "      <td>2</td>\n",
       "      <td>1.0</td>\n",
       "      <td>256.0</td>\n",
       "      <td>-37.8060</td>\n",
       "      <td>144.9954</td>\n",
       "    </tr>\n",
       "  </tbody>\n",
       "</table>\n",
       "</div>"
      ],
      "text/plain": [
       "   Rooms  Bathroom  Landsize  Lattitude  Longtitude\n",
       "1      2       1.0     156.0   -37.8079    144.9934\n",
       "2      3       2.0     134.0   -37.8093    144.9944\n",
       "4      4       1.0     120.0   -37.8072    144.9941\n",
       "6      3       2.0     245.0   -37.8024    144.9993\n",
       "7      2       1.0     256.0   -37.8060    144.9954"
      ]
     },
     "execution_count": 11,
     "metadata": {},
     "output_type": "execute_result"
    }
   ],
   "source": [
    "# Independent Features\n",
    "#We select multiple features by providing a list of column names inside brackets. Each item in that list should be a string (with quotes).\n",
    "melbourne_features = ['Rooms', 'Bathroom', 'Landsize', 'Lattitude', 'Longtitude']\n",
    "X = melbourne_data[melbourne_features]\n",
    "print(X.describe())\n",
    "X.head()"
   ]
  },
  {
   "attachments": {},
   "cell_type": "markdown",
   "metadata": {},
   "source": [
    "<h4>Building the Model</h4>\n",
    "<p>We are using DecisionTree from <strong>scikit-learn</strong> library.</p>\n",
    "<div><strong>Fit:</strong> Capture patterns from provided data. This is the heart of modeling.</div>\n",
    "<div><strong>Predict:</strong> Predicting the dependent value.</div>\n",
    "<div><strong>Evaluate:</strong> Determine how accurate the model's predictions are.</div>\n",
    "<div>&nbsp;</div>"
   ]
  },
  {
   "cell_type": "code",
   "execution_count": 12,
   "metadata": {},
   "outputs": [
    {
     "data": {
      "text/html": [
       "<style>#sk-container-id-1 {color: black;background-color: white;}#sk-container-id-1 pre{padding: 0;}#sk-container-id-1 div.sk-toggleable {background-color: white;}#sk-container-id-1 label.sk-toggleable__label {cursor: pointer;display: block;width: 100%;margin-bottom: 0;padding: 0.3em;box-sizing: border-box;text-align: center;}#sk-container-id-1 label.sk-toggleable__label-arrow:before {content: \"▸\";float: left;margin-right: 0.25em;color: #696969;}#sk-container-id-1 label.sk-toggleable__label-arrow:hover:before {color: black;}#sk-container-id-1 div.sk-estimator:hover label.sk-toggleable__label-arrow:before {color: black;}#sk-container-id-1 div.sk-toggleable__content {max-height: 0;max-width: 0;overflow: hidden;text-align: left;background-color: #f0f8ff;}#sk-container-id-1 div.sk-toggleable__content pre {margin: 0.2em;color: black;border-radius: 0.25em;background-color: #f0f8ff;}#sk-container-id-1 input.sk-toggleable__control:checked~div.sk-toggleable__content {max-height: 200px;max-width: 100%;overflow: auto;}#sk-container-id-1 input.sk-toggleable__control:checked~label.sk-toggleable__label-arrow:before {content: \"▾\";}#sk-container-id-1 div.sk-estimator input.sk-toggleable__control:checked~label.sk-toggleable__label {background-color: #d4ebff;}#sk-container-id-1 div.sk-label input.sk-toggleable__control:checked~label.sk-toggleable__label {background-color: #d4ebff;}#sk-container-id-1 input.sk-hidden--visually {border: 0;clip: rect(1px 1px 1px 1px);clip: rect(1px, 1px, 1px, 1px);height: 1px;margin: -1px;overflow: hidden;padding: 0;position: absolute;width: 1px;}#sk-container-id-1 div.sk-estimator {font-family: monospace;background-color: #f0f8ff;border: 1px dotted black;border-radius: 0.25em;box-sizing: border-box;margin-bottom: 0.5em;}#sk-container-id-1 div.sk-estimator:hover {background-color: #d4ebff;}#sk-container-id-1 div.sk-parallel-item::after {content: \"\";width: 100%;border-bottom: 1px solid gray;flex-grow: 1;}#sk-container-id-1 div.sk-label:hover label.sk-toggleable__label {background-color: #d4ebff;}#sk-container-id-1 div.sk-serial::before {content: \"\";position: absolute;border-left: 1px solid gray;box-sizing: border-box;top: 0;bottom: 0;left: 50%;z-index: 0;}#sk-container-id-1 div.sk-serial {display: flex;flex-direction: column;align-items: center;background-color: white;padding-right: 0.2em;padding-left: 0.2em;position: relative;}#sk-container-id-1 div.sk-item {position: relative;z-index: 1;}#sk-container-id-1 div.sk-parallel {display: flex;align-items: stretch;justify-content: center;background-color: white;position: relative;}#sk-container-id-1 div.sk-item::before, #sk-container-id-1 div.sk-parallel-item::before {content: \"\";position: absolute;border-left: 1px solid gray;box-sizing: border-box;top: 0;bottom: 0;left: 50%;z-index: -1;}#sk-container-id-1 div.sk-parallel-item {display: flex;flex-direction: column;z-index: 1;position: relative;background-color: white;}#sk-container-id-1 div.sk-parallel-item:first-child::after {align-self: flex-end;width: 50%;}#sk-container-id-1 div.sk-parallel-item:last-child::after {align-self: flex-start;width: 50%;}#sk-container-id-1 div.sk-parallel-item:only-child::after {width: 0;}#sk-container-id-1 div.sk-dashed-wrapped {border: 1px dashed gray;margin: 0 0.4em 0.5em 0.4em;box-sizing: border-box;padding-bottom: 0.4em;background-color: white;}#sk-container-id-1 div.sk-label label {font-family: monospace;font-weight: bold;display: inline-block;line-height: 1.2em;}#sk-container-id-1 div.sk-label-container {text-align: center;}#sk-container-id-1 div.sk-container {/* jupyter's `normalize.less` sets `[hidden] { display: none; }` but bootstrap.min.css set `[hidden] { display: none !important; }` so we also need the `!important` here to be able to override the default hidden behavior on the sphinx rendered scikit-learn.org. See: https://github.com/scikit-learn/scikit-learn/issues/21755 */display: inline-block !important;position: relative;}#sk-container-id-1 div.sk-text-repr-fallback {display: none;}</style><div id=\"sk-container-id-1\" class=\"sk-top-container\"><div class=\"sk-text-repr-fallback\"><pre>DecisionTreeRegressor(random_state=1)</pre><b>In a Jupyter environment, please rerun this cell to show the HTML representation or trust the notebook. <br />On GitHub, the HTML representation is unable to render, please try loading this page with nbviewer.org.</b></div><div class=\"sk-container\" hidden><div class=\"sk-item\"><div class=\"sk-estimator sk-toggleable\"><input class=\"sk-toggleable__control sk-hidden--visually\" id=\"sk-estimator-id-1\" type=\"checkbox\" checked><label for=\"sk-estimator-id-1\" class=\"sk-toggleable__label sk-toggleable__label-arrow\">DecisionTreeRegressor</label><div class=\"sk-toggleable__content\"><pre>DecisionTreeRegressor(random_state=1)</pre></div></div></div></div></div>"
      ],
      "text/plain": [
       "DecisionTreeRegressor(random_state=1)"
      ]
     },
     "execution_count": 12,
     "metadata": {},
     "output_type": "execute_result"
    }
   ],
   "source": [
    "## Train the Model\n",
    "from sklearn.tree import DecisionTreeRegressor\n",
    "\n",
    "# Define model. Specify a number for random_state to ensure same results each run\n",
    "# Many machine learning models allow some randomness in model training. \n",
    "# Specifying a number for random_state ensures you get the same results in each run. \n",
    "# This is considered a good practice. You use any number, and model quality won't depend meaningfully on exactly what value you choose.\n",
    "melbourne_model = DecisionTreeRegressor(random_state=1)\n",
    "\n",
    "# Fit model\n",
    "melbourne_model.fit(X, y)"
   ]
  },
  {
   "cell_type": "code",
   "execution_count": 13,
   "metadata": {},
   "outputs": [
    {
     "name": "stdout",
     "output_type": "stream",
     "text": [
      "Making predictions for the following 5 houses:\n",
      "   Rooms  Bathroom  Landsize  Lattitude  Longtitude\n",
      "1      2       1.0     156.0   -37.8079    144.9934\n",
      "2      3       2.0     134.0   -37.8093    144.9944\n",
      "4      4       1.0     120.0   -37.8072    144.9941\n",
      "6      3       2.0     245.0   -37.8024    144.9993\n",
      "7      2       1.0     256.0   -37.8060    144.9954\n",
      "The predictions are\n",
      "[1035000. 1465000. 1600000. 1876000. 1636000.]\n"
     ]
    }
   ],
   "source": [
    "# Predict with Test Data\n",
    "print(\"Making predictions for the following 5 houses:\")\n",
    "print(X.head())\n",
    "print(\"The predictions are\")\n",
    "print(melbourne_model.predict(X.head()))"
   ]
  },
  {
   "attachments": {},
   "cell_type": "markdown",
   "metadata": {},
   "source": [
    "<div>\n",
    "<div><span style=\"background-color: #000080; color: #ffffff;\"><strong>Model Validation</strong></span></div>\n",
    "<div>Model validation to measure the quality of your model. Measuring model quality is the key to iteratively improving your models.</div>\n",
    "<div>The relevant measure of model quality is predictive accuracy. In other words, will the model's predictions be close to what actually happens.</div>\n",
    "<div>There are many metrics for summarizing model quality, but we'll start with one called Mean Absolute Error (also called MAE).\n",
    "The prediction error for each house is: error=actual−predicted</div>\n",
    "<div>So, if a house cost $150,000 and we predicted it would cost $100,000 the error is $50,000.</div>\n",
    "\n",
    "<div>With the MAE metric, we take the absolute value of each error. This converts each error to a positive number. We then take the average of those absolute errors. </div>\n",
    "<div>This is our measure of model quality. In plain English, it can be said as </div>\n",
    "\n",
    "<div>On average, our predictions are off by about X.</div>\n",
    "\n",
    "</div>"
   ]
  },
  {
   "cell_type": "code",
   "execution_count": 14,
   "metadata": {},
   "outputs": [
    {
     "data": {
      "text/plain": [
       "1115.7467183128902"
      ]
     },
     "execution_count": 14,
     "metadata": {},
     "output_type": "execute_result"
    }
   ],
   "source": [
    "from sklearn.metrics import mean_absolute_error\n",
    "predicted_home_prices = melbourne_model.predict(X)\n",
    "mean_absolute_error(y, predicted_home_prices)"
   ]
  },
  {
   "attachments": {},
   "cell_type": "markdown",
   "metadata": {},
   "source": [
    "<h3 id=\"The-Problem-with-&quot;In-Sample&quot;-Scores\"><span style=\"background-color: #000080; color: #ffffff;\">The Problem with \"In-Sample\" Scores</span></h3>\n",
    "<p>The measure we just computed can be called an \"in-sample\" score. We used a single \"sample\" of houses for both building the model and evaluating it. Here's why this is bad.</p>\n",
    "<p>Imagine that, in the large real estate market, door color is unrelated to home price.</p>\n",
    "<p>However, in the sample of data you used to build the model, all homes with green doors were very expensive. The model's job is to find patterns that predict home prices, so it will see this pattern, and it will always predict high prices for homes with green doors.</p>\n",
    "<p>Since this pattern was derived from the training data, the model will appear accurate in the training data.</p>\n",
    "<p>But if this pattern doesn't hold when the model sees new data, the model would be very inaccurate when used in practice.</p>\n",
    "<p>Since models' practical value come from making predictions on new data, we measure performance on data that wasn't used to build the model. The most straightforward way to do this is to exclude some data from the model-building process, and then use those to test the model's accuracy on data it hasn't seen before. This data is called&nbsp;<strong>validation data</strong>.</p>"
   ]
  },
  {
   "cell_type": "code",
   "execution_count": 67,
   "metadata": {},
   "outputs": [
    {
     "name": "stdout",
     "output_type": "stream",
     "text": [
      "Training and Validation data are as below\n",
      "(4337, 5) (1859, 5) (4337,) (1859,)\n",
      "***************************************************************\n"
     ]
    }
   ],
   "source": [
    "from sklearn.model_selection import train_test_split\n",
    "\n",
    "# split data into training and validation data, for both features and target\n",
    "# The split is based on a random number generator. Supplying a numeric value to\n",
    "# the random_state argument guarantees we get the same split every time we\n",
    "# run this script.\n",
    "train_X, val_X, train_y, val_y = train_test_split(X, y, test_size=0.3,random_state = 0)\n",
    "\n",
    "#Validate the shapes of Training and Validation data\n",
    "print(\"Training and Validation data are as below\")\n",
    "print(train_X.shape, val_X.shape, train_y.shape, val_y.shape)\n",
    "print(\"***************************************************************\")\n",
    "\n",
    "\n"
   ]
  },
  {
   "cell_type": "code",
   "execution_count": 68,
   "metadata": {},
   "outputs": [],
   "source": [
    "# Define model - DecisionTree\n",
    "melbourne_model = DecisionTreeRegressor().fit(train_X, train_y)\n",
    "# Fit model\n",
    "#melbourne_model.fit(train_X, train_y)"
   ]
  },
  {
   "attachments": {},
   "cell_type": "markdown",
   "metadata": {},
   "source": [
    "Important Matrixes for the model"
   ]
  },
  {
   "cell_type": "code",
   "execution_count": 69,
   "metadata": {},
   "outputs": [
    {
     "name": "stdout",
     "output_type": "stream",
     "text": [
      "The training r_sq is: 1.00\n"
     ]
    }
   ],
   "source": [
    "#Cofficient of determination\n",
    "print('The training r_sq is: %.2f'% melbourne_model.score(train_X,train_y))"
   ]
  },
  {
   "attachments": {},
   "cell_type": "markdown",
   "metadata": {},
   "source": [
    "Predictions on Training Data"
   ]
  },
  {
   "cell_type": "code",
   "execution_count": 83,
   "metadata": {},
   "outputs": [
    {
     "name": "stdout",
     "output_type": "stream",
     "text": [
      "TRAINING DATA PREDICTIONS \n",
      "*********************************\n",
      "The r2_sq is:  0.9997742552179427\n",
      "The MAE is:  773.5762047498271\n",
      "The MSE is:  94204941.9721774\n",
      "The RMSE is:  9705.923035558102\n",
      "The EVS is:  0.9997742552179427\n"
     ]
    }
   ],
   "source": [
    "\n",
    "from sklearn.metrics import mean_absolute_error, mean_squared_error, explained_variance_score, r2_score\n",
    "import numpy as np\n",
    "\n",
    "\n",
    "## Prediction on Trainig dataset\n",
    "train_y_predict = melbourne_model.predict(train_X)\n",
    "print(\"TRAINING DATA PREDICTIONS \\n*********************************\")\n",
    "## The r_sq\n",
    "print('The r2_sq is: ', r2_score(train_y,train_y_predict))\n",
    "\n",
    "## Mean absolute Error on training data\n",
    "print('The MAE is: ', mean_absolute_error(train_y, train_y_predict) )\n",
    "\n",
    "## Mean Square Error on training data\n",
    "print('The MSE is: ', mean_squared_error(train_y, train_y_predict))\n",
    "\n",
    "## Root Mean square Error\n",
    "print('The RMSE is: ', np.sqrt(mean_squared_error(train_y,train_y_predict)))\n",
    "\n",
    "## The Explained Variance Score\n",
    "print('The EVS is: ', explained_variance_score(train_y, train_y_predict))"
   ]
  },
  {
   "attachments": {},
   "cell_type": "markdown",
   "metadata": {},
   "source": [
    "Predictions on Validation data"
   ]
  },
  {
   "cell_type": "code",
   "execution_count": 82,
   "metadata": {},
   "outputs": [
    {
     "name": "stdout",
     "output_type": "stream",
     "text": [
      "The validation r_sq is: 0.51\n",
      "VALIDATION DATA PREDICTIONS \n",
      "*********************************\n",
      "The r2_sq is:  0.5077178189707199\n",
      "The MAE is:  283266.25407925405\n",
      "The MSE is:  268185546530.24966\n",
      "The RMSE is:  517866.34041058284\n",
      "The EVS is:  0.5082196014597424\n"
     ]
    }
   ],
   "source": [
    "#Cofficient of determination\n",
    "print('The validation r_sq is: %.2f'% melbourne_model.score(val_X,val_y))\n",
    "\n",
    "## Predictions on Validation data\n",
    "val_y_predict = melbourne_model.predict(val_X)\n",
    "print(\"VALIDATION DATA PREDICTIONS \\n*********************************\")\n",
    "## The r_sq\n",
    "print('The r2_sq is: ', r2_score(val_y,val_y_predict))\n",
    "\n",
    "## Mean absolute Error on training data\n",
    "print('The MAE is: ', mean_absolute_error(val_y, val_y_predict))\n",
    "\n",
    "## Mean Square Error on training data\n",
    "print('The MSE is: ', mean_squared_error(val_y, val_y_predict))\n",
    "\n",
    "## Root Mean square Error\n",
    "print('The RMSE is: ', np.sqrt(mean_squared_error(val_y,val_y_predict)))\n",
    "\n",
    "## The Explained Variance Score\n",
    "print('The EVS is: ', explained_variance_score(val_y, val_y_predict))"
   ]
  },
  {
   "cell_type": "code",
   "execution_count": 76,
   "metadata": {},
   "outputs": [
    {
     "name": "stdout",
     "output_type": "stream",
     "text": [
      "Average Price of house is: 1074396.2078178234\n",
      "Mean Absolute Error:  283266.25407925405\n"
     ]
    }
   ],
   "source": [
    "# get predicted prices on validation data\n",
    "val_predictions = melbourne_model.predict(val_X)\n",
    "print(\"Average Price of house is: \" + str(val_predictions.mean()))\n",
    "print(\"Mean Absolute Error: \", mean_absolute_error(val_y, val_predictions))"
   ]
  },
  {
   "attachments": {},
   "cell_type": "markdown",
   "metadata": {},
   "source": [
    "<p><span style=\"background-color: #ff0000; color: #ffffff;\"><strong>Remarks</strong></span></p>\n",
    "<p>Our mean absolute error for the in-sample data was about 1100 dollars. Out-of-sample it is more than 270,000 dollars.</p>\n",
    "<p>This is the difference between a model that is almost exactly right, and one that is unusable for most practical purposes. As a point of reference, the average home value in the validation data is 1.0 million dollars. So the error in new data is about a quarter of the average home value.</p>\n",
    "<p>There are many ways to improve this model, such as experimenting to find better features or different model types.</p>"
   ]
  },
  {
   "attachments": {},
   "cell_type": "markdown",
   "metadata": {},
   "source": [
    "<h3 class=\"sc-csCMJt sc-fbJfA sc-jcEumN gttkKI hmVOek bbAnao\">Underfitting and Overfitting</h3>\n",
    "<p><strong><span style=\"background-color: #000080; color: #ffffff;\">Overfitting</span>: - </strong>When we divide the houses amongst many leaves, we also have fewer houses in each leaf. Leaves with very few houses will make predictions that are quite close to those homes' actual values, but they may make very unreliable predictions for new data (because each prediction is based on only a few houses).</p>\n",
    "<p>This is a phenomenon called&nbsp;<strong>overfitting</strong>, where a model matches the training data almost perfectly, but does poorly in validation and other new data.</p>\n",
    "<p><strong><span style=\"background-color: #000080; color: #ffffff;\">Underfitting</span>: - </strong>At an extreme, if a tree divides houses into only 2 or 4, each group still has a wide variety of houses. Resulting predictions may be far off for most houses, even in the training data (and it will be bad in validation too for the same reason). When a model fails to capture important distinctions and patterns in the data, so it performs poorly even in training data, that is called&nbsp;<strong>underfitting</strong>.</p>\n",
    "<p>Since we care about accuracy on new data, which we estimate from our validation data, we want to find the sweet spot between underfitting and overfitting. Visually, we want the low point of the (red) validation curve in the figure below.</p>\n",
    "<p><img src=\"https://storage.googleapis.com/kaggle-media/learn/images/AXSEOfI.png\" alt=\"underfitting_overfitting\" width=\"434\" height=\"303\" /></p>"
   ]
  },
  {
   "attachments": {},
   "cell_type": "markdown",
   "metadata": {},
   "source": [
    "<p><span style=\"background-color: #000080; color: #ffffff;\"><strong>Solution</strong></span></p>\n",
    "<p>There are a few alternatives for controlling the tree depth, and many allow for some routes through the tree to have greater depth than other routes. But the&nbsp;<em>max_leaf_nodes</em>&nbsp;argument provides a very sensible way to control overfitting vs underfitting. The more leaves we allow the model to make, the more we move from the underfitting area in the above graph to the overfitting area.</p>\n",
    "<p>We can use a utility function to help compare MAE scores from different values for&nbsp;<em>max_leaf_nodes</em>:</p>"
   ]
  },
  {
   "cell_type": "code",
   "execution_count": null,
   "metadata": {},
   "outputs": [],
   "source": [
    "## Creating a function to get the MAE (Mean Absolute Error) for different values of max_leaf_node.\n",
    "from sklearn.metrics import mean_absolute_error\n",
    "from sklearn.tree import DecisionTreeRegressor\n",
    "\n",
    "def get_mae(max_leaf_nodes, train_X, val_X, train_y, val_y):\n",
    "    model = DecisionTreeRegressor(max_leaf_nodes=max_leaf_nodes, random_state=0)\n",
    "    model.fit(train_X, train_y)\n",
    "    preds_val = model.predict(val_X)\n",
    "    mae = mean_absolute_error(val_y, preds_val)\n",
    "    return(mae)"
   ]
  },
  {
   "cell_type": "code",
   "execution_count": null,
   "metadata": {},
   "outputs": [
    {
     "name": "stdout",
     "output_type": "stream",
     "text": [
      "Max leaf nodes: 5  \t\t Mean Absolute Error:  385696\n",
      "Max leaf nodes: 50  \t\t Mean Absolute Error:  279794\n",
      "Max leaf nodes: 100  \t\t Mean Absolute Error:  269191\n",
      "Max leaf nodes: 250  \t\t Mean Absolute Error:  269945\n",
      "Max leaf nodes: 500  \t\t Mean Absolute Error:  261718\n",
      "Max leaf nodes: 1000  \t\t Mean Absolute Error:  262044\n",
      "Max leaf nodes: 5000  \t\t Mean Absolute Error:  271320\n"
     ]
    }
   ],
   "source": [
    "for max_leaf_nodes in [5, 50, 100, 250, 500,1000,5000]:\n",
    "    my_mae = get_mae(max_leaf_nodes, train_X, val_X, train_y, val_y)\n",
    "    print(\"Max leaf nodes: %d  \\t\\t Mean Absolute Error:  %d\" %(max_leaf_nodes, my_mae))"
   ]
  },
  {
   "attachments": {},
   "cell_type": "markdown",
   "metadata": {},
   "source": [
    "Conclusion: - Prediction with max leaf node, 500 is giving good result"
   ]
  },
  {
   "cell_type": "code",
   "execution_count": 86,
   "metadata": {},
   "outputs": [
    {
     "name": "stdout",
     "output_type": "stream",
     "text": [
      "Making predictions for the following 5 houses:\n",
      "   Rooms  Bathroom  Landsize  Lattitude  Longtitude\n",
      "1      2       1.0     156.0   -37.8079    144.9934\n",
      "2      3       2.0     134.0   -37.8093    144.9944\n",
      "4      4       1.0     120.0   -37.8072    144.9941\n",
      "6      3       2.0     245.0   -37.8024    144.9993\n",
      "7      2       1.0     256.0   -37.8060    144.9954\n",
      "The predictions are\n",
      "[1078446.42857143 1246050.         1660600.         1410451.61290323\n",
      " 1366469.375     ]\n"
     ]
    }
   ],
   "source": [
    "best_tree_size = 500\n",
    "\n",
    "final_model = DecisionTreeRegressor(max_leaf_nodes=best_tree_size, random_state=1)\n",
    "\n",
    "# fit the final model\n",
    "final_model.fit(X, y)\n",
    "\n",
    "print(\"Making predictions for the following 5 houses:\")\n",
    "print(X.head())\n",
    "print(\"The predictions are\")\n",
    "print(final_model.predict(X.head()))"
   ]
  },
  {
   "attachments": {},
   "cell_type": "markdown",
   "metadata": {},
   "source": [
    "## New Data Prediction\n",
    "Model is - final_model"
   ]
  },
  {
   "cell_type": "code",
   "execution_count": 98,
   "metadata": {},
   "outputs": [
    {
     "data": {
      "text/plain": [
       "(5,)"
      ]
     },
     "execution_count": 98,
     "metadata": {},
     "output_type": "execute_result"
    }
   ],
   "source": [
    "melbourne_data[melbourne_features].iloc[0].shape"
   ]
  },
  {
   "cell_type": "code",
   "execution_count": 110,
   "metadata": {},
   "outputs": [
    {
     "data": {
      "text/plain": [
       "array([[  3.    ,   2.    , 134.    , -37.8093, 144.9944]])"
      ]
     },
     "execution_count": 110,
     "metadata": {},
     "output_type": "execute_result"
    }
   ],
   "source": [
    "test1 = melbourne_data[melbourne_features].iloc[1].values.reshape(1,-1)\n",
    "test1"
   ]
  },
  {
   "cell_type": "code",
   "execution_count": 111,
   "metadata": {},
   "outputs": [
    {
     "name": "stderr",
     "output_type": "stream",
     "text": [
      "c:\\Users\\suman\\anaconda3\\lib\\site-packages\\sklearn\\base.py:420: UserWarning: X does not have valid feature names, but DecisionTreeRegressor was fitted with feature names\n",
      "  warnings.warn(\n"
     ]
    },
    {
     "data": {
      "text/plain": [
       "array([1246050.])"
      ]
     },
     "execution_count": 111,
     "metadata": {},
     "output_type": "execute_result"
    }
   ],
   "source": [
    "final_model.predict(test1)"
   ]
  },
  {
   "cell_type": "code",
   "execution_count": 1,
   "metadata": {},
   "outputs": [],
   "source": [
    "import pickle"
   ]
  },
  {
   "cell_type": "code",
   "execution_count": null,
   "metadata": {},
   "outputs": [],
   "source": [
    "pickle.dump(final_model,open('dtModel.pkl','wb'))"
   ]
  },
  {
   "attachments": {},
   "cell_type": "markdown",
   "metadata": {},
   "source": [
    "For Practice Purpose"
   ]
  },
  {
   "cell_type": "code",
   "execution_count": null,
   "metadata": {},
   "outputs": [
    {
     "data": {
      "text/html": [
       "<style>#sk-container-id-4 {color: black;background-color: white;}#sk-container-id-4 pre{padding: 0;}#sk-container-id-4 div.sk-toggleable {background-color: white;}#sk-container-id-4 label.sk-toggleable__label {cursor: pointer;display: block;width: 100%;margin-bottom: 0;padding: 0.3em;box-sizing: border-box;text-align: center;}#sk-container-id-4 label.sk-toggleable__label-arrow:before {content: \"▸\";float: left;margin-right: 0.25em;color: #696969;}#sk-container-id-4 label.sk-toggleable__label-arrow:hover:before {color: black;}#sk-container-id-4 div.sk-estimator:hover label.sk-toggleable__label-arrow:before {color: black;}#sk-container-id-4 div.sk-toggleable__content {max-height: 0;max-width: 0;overflow: hidden;text-align: left;background-color: #f0f8ff;}#sk-container-id-4 div.sk-toggleable__content pre {margin: 0.2em;color: black;border-radius: 0.25em;background-color: #f0f8ff;}#sk-container-id-4 input.sk-toggleable__control:checked~div.sk-toggleable__content {max-height: 200px;max-width: 100%;overflow: auto;}#sk-container-id-4 input.sk-toggleable__control:checked~label.sk-toggleable__label-arrow:before {content: \"▾\";}#sk-container-id-4 div.sk-estimator input.sk-toggleable__control:checked~label.sk-toggleable__label {background-color: #d4ebff;}#sk-container-id-4 div.sk-label input.sk-toggleable__control:checked~label.sk-toggleable__label {background-color: #d4ebff;}#sk-container-id-4 input.sk-hidden--visually {border: 0;clip: rect(1px 1px 1px 1px);clip: rect(1px, 1px, 1px, 1px);height: 1px;margin: -1px;overflow: hidden;padding: 0;position: absolute;width: 1px;}#sk-container-id-4 div.sk-estimator {font-family: monospace;background-color: #f0f8ff;border: 1px dotted black;border-radius: 0.25em;box-sizing: border-box;margin-bottom: 0.5em;}#sk-container-id-4 div.sk-estimator:hover {background-color: #d4ebff;}#sk-container-id-4 div.sk-parallel-item::after {content: \"\";width: 100%;border-bottom: 1px solid gray;flex-grow: 1;}#sk-container-id-4 div.sk-label:hover label.sk-toggleable__label {background-color: #d4ebff;}#sk-container-id-4 div.sk-serial::before {content: \"\";position: absolute;border-left: 1px solid gray;box-sizing: border-box;top: 0;bottom: 0;left: 50%;z-index: 0;}#sk-container-id-4 div.sk-serial {display: flex;flex-direction: column;align-items: center;background-color: white;padding-right: 0.2em;padding-left: 0.2em;position: relative;}#sk-container-id-4 div.sk-item {position: relative;z-index: 1;}#sk-container-id-4 div.sk-parallel {display: flex;align-items: stretch;justify-content: center;background-color: white;position: relative;}#sk-container-id-4 div.sk-item::before, #sk-container-id-4 div.sk-parallel-item::before {content: \"\";position: absolute;border-left: 1px solid gray;box-sizing: border-box;top: 0;bottom: 0;left: 50%;z-index: -1;}#sk-container-id-4 div.sk-parallel-item {display: flex;flex-direction: column;z-index: 1;position: relative;background-color: white;}#sk-container-id-4 div.sk-parallel-item:first-child::after {align-self: flex-end;width: 50%;}#sk-container-id-4 div.sk-parallel-item:last-child::after {align-self: flex-start;width: 50%;}#sk-container-id-4 div.sk-parallel-item:only-child::after {width: 0;}#sk-container-id-4 div.sk-dashed-wrapped {border: 1px dashed gray;margin: 0 0.4em 0.5em 0.4em;box-sizing: border-box;padding-bottom: 0.4em;background-color: white;}#sk-container-id-4 div.sk-label label {font-family: monospace;font-weight: bold;display: inline-block;line-height: 1.2em;}#sk-container-id-4 div.sk-label-container {text-align: center;}#sk-container-id-4 div.sk-container {/* jupyter's `normalize.less` sets `[hidden] { display: none; }` but bootstrap.min.css set `[hidden] { display: none !important; }` so we also need the `!important` here to be able to override the default hidden behavior on the sphinx rendered scikit-learn.org. See: https://github.com/scikit-learn/scikit-learn/issues/21755 */display: inline-block !important;position: relative;}#sk-container-id-4 div.sk-text-repr-fallback {display: none;}</style><div id=\"sk-container-id-4\" class=\"sk-top-container\"><div class=\"sk-text-repr-fallback\"><pre>DecisionTreeRegressor(max_depth=2)</pre><b>In a Jupyter environment, please rerun this cell to show the HTML representation or trust the notebook. <br />On GitHub, the HTML representation is unable to render, please try loading this page with nbviewer.org.</b></div><div class=\"sk-container\" hidden><div class=\"sk-item\"><div class=\"sk-estimator sk-toggleable\"><input class=\"sk-toggleable__control sk-hidden--visually\" id=\"sk-estimator-id-4\" type=\"checkbox\" checked><label for=\"sk-estimator-id-4\" class=\"sk-toggleable__label sk-toggleable__label-arrow\">DecisionTreeRegressor</label><div class=\"sk-toggleable__content\"><pre>DecisionTreeRegressor(max_depth=2)</pre></div></div></div></div></div>"
      ],
      "text/plain": [
       "DecisionTreeRegressor(max_depth=2)"
      ]
     },
     "execution_count": 33,
     "metadata": {},
     "output_type": "execute_result"
    }
   ],
   "source": [
    "from sklearn.tree import DecisionTreeRegressor\n",
    "\n",
    "\n",
    "melb_data_X = melbourne_data[['Rooms','Bathroom','Landsize','Lattitude','Longtitude']]\n",
    "melb_data_y = melbourne_data['Price']\n",
    "\n",
    "tree_reg = DecisionTreeRegressor(max_depth=2)\n",
    "tree_reg.fit(melb_data_X, melb_data_y)"
   ]
  },
  {
   "cell_type": "code",
   "execution_count": null,
   "metadata": {},
   "outputs": [
    {
     "data": {
      "image/svg+xml": [
       "<svg xmlns=\"http://www.w3.org/2000/svg\" xmlns:xlink=\"http://www.w3.org/1999/xlink\" width=\"988pt\" height=\"269pt\" viewBox=\"0.00 0.00 987.50 269.00\">\n",
       "<g id=\"graph0\" class=\"graph\" transform=\"scale(1 1) rotate(0) translate(4 265)\">\n",
       "<title>Tree</title>\n",
       "<polygon fill=\"white\" stroke=\"transparent\" points=\"-4,4 -4,-265 983.5,-265 983.5,4 -4,4\"/>\n",
       "<!-- 0 -->\n",
       "<g id=\"node1\" class=\"node\">\n",
       "<title>0</title>\n",
       "<polygon fill=\"#f6d2b9\" stroke=\"black\" points=\"602.5,-261 369.5,-261 369.5,-193 602.5,-193 602.5,-261\"/>\n",
       "<text text-anchor=\"middle\" x=\"486\" y=\"-245.8\" font-family=\"Helvetica,sans-Serif\" font-size=\"14.00\">Rooms &lt;= 3.5</text>\n",
       "<text text-anchor=\"middle\" x=\"486\" y=\"-230.8\" font-family=\"Helvetica,sans-Serif\" font-size=\"14.00\">squared_error = 455762632164.557</text>\n",
       "<text text-anchor=\"middle\" x=\"486\" y=\"-215.8\" font-family=\"Helvetica,sans-Serif\" font-size=\"14.00\">samples = 6196</text>\n",
       "<text text-anchor=\"middle\" x=\"486\" y=\"-200.8\" font-family=\"Helvetica,sans-Serif\" font-size=\"14.00\">value = 1068828.202</text>\n",
       "</g>\n",
       "<!-- 1 -->\n",
       "<g id=\"node2\" class=\"node\">\n",
       "<title>1</title>\n",
       "<polygon fill=\"#fae6d8\" stroke=\"black\" points=\"474,-157 248,-157 248,-89 474,-89 474,-157\"/>\n",
       "<text text-anchor=\"middle\" x=\"361\" y=\"-141.8\" font-family=\"Helvetica,sans-Serif\" font-size=\"14.00\">Rooms &lt;= 2.5</text>\n",
       "<text text-anchor=\"middle\" x=\"361\" y=\"-126.8\" font-family=\"Helvetica,sans-Serif\" font-size=\"14.00\">squared_error = 231091546371.61</text>\n",
       "<text text-anchor=\"middle\" x=\"361\" y=\"-111.8\" font-family=\"Helvetica,sans-Serif\" font-size=\"14.00\">samples = 4600</text>\n",
       "<text text-anchor=\"middle\" x=\"361\" y=\"-96.8\" font-family=\"Helvetica,sans-Serif\" font-size=\"14.00\">value = 892052.488</text>\n",
       "</g>\n",
       "<!-- 0&#45;&gt;1 -->\n",
       "<g id=\"edge1\" class=\"edge\">\n",
       "<title>0-&gt;1</title>\n",
       "<path fill=\"none\" stroke=\"black\" d=\"M445.42,-192.88C434.06,-183.62 421.61,-173.45 409.83,-163.85\"/>\n",
       "<polygon fill=\"black\" stroke=\"black\" points=\"411.77,-160.91 401.81,-157.3 407.34,-166.33 411.77,-160.91\"/>\n",
       "<text text-anchor=\"middle\" x=\"404.33\" y=\"-178.47\" font-family=\"Helvetica,sans-Serif\" font-size=\"14.00\">True</text>\n",
       "</g>\n",
       "<!-- 4 -->\n",
       "<g id=\"node5\" class=\"node\">\n",
       "<title>4</title>\n",
       "<polygon fill=\"#ea985e\" stroke=\"black\" points=\"728.5,-157 495.5,-157 495.5,-89 728.5,-89 728.5,-157\"/>\n",
       "<text text-anchor=\"middle\" x=\"612\" y=\"-141.8\" font-family=\"Helvetica,sans-Serif\" font-size=\"14.00\">Lattitude &lt;= -37.758</text>\n",
       "<text text-anchor=\"middle\" x=\"612\" y=\"-126.8\" font-family=\"Helvetica,sans-Serif\" font-size=\"14.00\">squared_error = 753648689558.668</text>\n",
       "<text text-anchor=\"middle\" x=\"612\" y=\"-111.8\" font-family=\"Helvetica,sans-Serif\" font-size=\"14.00\">samples = 1596</text>\n",
       "<text text-anchor=\"middle\" x=\"612\" y=\"-96.8\" font-family=\"Helvetica,sans-Serif\" font-size=\"14.00\">value = 1578332.14</text>\n",
       "</g>\n",
       "<!-- 0&#45;&gt;4 -->\n",
       "<g id=\"edge4\" class=\"edge\">\n",
       "<title>0-&gt;4</title>\n",
       "<path fill=\"none\" stroke=\"black\" d=\"M526.91,-192.88C538.35,-183.62 550.91,-173.45 562.78,-163.85\"/>\n",
       "<polygon fill=\"black\" stroke=\"black\" points=\"565.3,-166.31 570.87,-157.3 560.89,-160.87 565.3,-166.31\"/>\n",
       "<text text-anchor=\"middle\" x=\"568.25\" y=\"-178.46\" font-family=\"Helvetica,sans-Serif\" font-size=\"14.00\">False</text>\n",
       "</g>\n",
       "<!-- 2 -->\n",
       "<g id=\"node3\" class=\"node\">\n",
       "<title>2</title>\n",
       "<polygon fill=\"#ffffff\" stroke=\"black\" points=\"226,-53 0,-53 0,0 226,0 226,-53\"/>\n",
       "<text text-anchor=\"middle\" x=\"113\" y=\"-37.8\" font-family=\"Helvetica,sans-Serif\" font-size=\"14.00\">squared_error = 96508098732.512</text>\n",
       "<text text-anchor=\"middle\" x=\"113\" y=\"-22.8\" font-family=\"Helvetica,sans-Serif\" font-size=\"14.00\">samples = 2059</text>\n",
       "<text text-anchor=\"middle\" x=\"113\" y=\"-7.8\" font-family=\"Helvetica,sans-Serif\" font-size=\"14.00\">value = 675606.991</text>\n",
       "</g>\n",
       "<!-- 1&#45;&gt;2 -->\n",
       "<g id=\"edge2\" class=\"edge\">\n",
       "<title>1-&gt;2</title>\n",
       "<path fill=\"none\" stroke=\"black\" d=\"M274.26,-88.95C246.77,-78.47 216.58,-66.97 189.84,-56.78\"/>\n",
       "<polygon fill=\"black\" stroke=\"black\" points=\"190.74,-53.38 180.15,-53.09 188.25,-59.92 190.74,-53.38\"/>\n",
       "</g>\n",
       "<!-- 3 -->\n",
       "<g id=\"node4\" class=\"node\">\n",
       "<title>3</title>\n",
       "<polygon fill=\"#f6d2b9\" stroke=\"black\" points=\"477.5,-53 244.5,-53 244.5,0 477.5,0 477.5,-53\"/>\n",
       "<text text-anchor=\"middle\" x=\"361\" y=\"-37.8\" font-family=\"Helvetica,sans-Serif\" font-size=\"14.00\">squared_error = 271423005215.301</text>\n",
       "<text text-anchor=\"middle\" x=\"361\" y=\"-22.8\" font-family=\"Helvetica,sans-Serif\" font-size=\"14.00\">samples = 2541</text>\n",
       "<text text-anchor=\"middle\" x=\"361\" y=\"-7.8\" font-family=\"Helvetica,sans-Serif\" font-size=\"14.00\">value = 1067440.634</text>\n",
       "</g>\n",
       "<!-- 1&#45;&gt;3 -->\n",
       "<g id=\"edge3\" class=\"edge\">\n",
       "<title>1-&gt;3</title>\n",
       "<path fill=\"none\" stroke=\"black\" d=\"M361,-88.95C361,-80.72 361,-71.85 361,-63.48\"/>\n",
       "<polygon fill=\"black\" stroke=\"black\" points=\"364.5,-63.24 361,-53.24 357.5,-63.24 364.5,-63.24\"/>\n",
       "</g>\n",
       "<!-- 5 -->\n",
       "<g id=\"node6\" class=\"node\">\n",
       "<title>5</title>\n",
       "<polygon fill=\"#e58139\" stroke=\"black\" points=\"728.5,-53 495.5,-53 495.5,0 728.5,0 728.5,-53\"/>\n",
       "<text text-anchor=\"middle\" x=\"612\" y=\"-37.8\" font-family=\"Helvetica,sans-Serif\" font-size=\"14.00\">squared_error = 786429490155.464</text>\n",
       "<text text-anchor=\"middle\" x=\"612\" y=\"-22.8\" font-family=\"Helvetica,sans-Serif\" font-size=\"14.00\">samples = 1202</text>\n",
       "<text text-anchor=\"middle\" x=\"612\" y=\"-7.8\" font-family=\"Helvetica,sans-Serif\" font-size=\"14.00\">value = 1782650.28</text>\n",
       "</g>\n",
       "<!-- 4&#45;&gt;5 -->\n",
       "<g id=\"edge5\" class=\"edge\">\n",
       "<title>4-&gt;5</title>\n",
       "<path fill=\"none\" stroke=\"black\" d=\"M612,-88.95C612,-80.72 612,-71.85 612,-63.48\"/>\n",
       "<polygon fill=\"black\" stroke=\"black\" points=\"615.5,-63.24 612,-53.24 608.5,-63.24 615.5,-63.24\"/>\n",
       "</g>\n",
       "<!-- 6 -->\n",
       "<g id=\"node7\" class=\"node\">\n",
       "<title>6</title>\n",
       "<polygon fill=\"#f8dfcd\" stroke=\"black\" points=\"979.5,-53 746.5,-53 746.5,0 979.5,0 979.5,-53\"/>\n",
       "<text text-anchor=\"middle\" x=\"863\" y=\"-37.8\" font-family=\"Helvetica,sans-Serif\" font-size=\"14.00\">squared_error = 137750323764.295</text>\n",
       "<text text-anchor=\"middle\" x=\"863\" y=\"-22.8\" font-family=\"Helvetica,sans-Serif\" font-size=\"14.00\">samples = 394</text>\n",
       "<text text-anchor=\"middle\" x=\"863\" y=\"-7.8\" font-family=\"Helvetica,sans-Serif\" font-size=\"14.00\">value = 955006.241</text>\n",
       "</g>\n",
       "<!-- 4&#45;&gt;6 -->\n",
       "<g id=\"edge6\" class=\"edge\">\n",
       "<title>4-&gt;6</title>\n",
       "<path fill=\"none\" stroke=\"black\" d=\"M699.79,-88.95C727.74,-78.43 758.43,-66.87 785.59,-56.64\"/>\n",
       "<polygon fill=\"black\" stroke=\"black\" points=\"786.91,-59.89 795.04,-53.09 784.45,-53.33 786.91,-59.89\"/>\n",
       "</g>\n",
       "</g>\n",
       "</svg>"
      ],
      "text/plain": [
       "<IPython.core.display.SVG object>"
      ]
     },
     "metadata": {},
     "output_type": "display_data"
    }
   ],
   "source": [
    "# Visualize the trained Decision Tree by export_graphviz() method\n",
    "from sklearn.tree import export_graphviz\n",
    "from sklearn import tree\n",
    "from IPython.display import SVG\n",
    "from graphviz import Source\n",
    "from IPython.display import display\n",
    "\n",
    "\n",
    "labels = melb_data_X.columns\n",
    "\n",
    "graph = Source(tree.export_graphviz(tree_reg ,feature_names = labels, max_depth = 2, filled = True))\n",
    "display(SVG(graph.pipe(format='svg')))"
   ]
  }
 ],
 "metadata": {
  "kernelspec": {
   "display_name": "Python 3 (ipykernel)",
   "language": "python",
   "name": "python3"
  },
  "language_info": {
   "codemirror_mode": {
    "name": "ipython",
    "version": 3
   },
   "file_extension": ".py",
   "mimetype": "text/x-python",
   "name": "python",
   "nbconvert_exporter": "python",
   "pygments_lexer": "ipython3",
   "version": "3.10.9"
  }
 },
 "nbformat": 4,
 "nbformat_minor": 2
}
